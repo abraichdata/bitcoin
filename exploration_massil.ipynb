{
 "cells": [
  {
   "cell_type": "code",
   "execution_count": 89,
   "metadata": {
    "collapsed": true
   },
   "outputs": [],
   "source": [
    "import numpy as np\n",
    "import pandas as pd"
   ]
  },
  {
   "cell_type": "code",
   "execution_count": 90,
   "metadata": {
    "collapsed": true
   },
   "outputs": [],
   "source": [
    "%matplotlib inline\n",
    "import matplotlib.pyplot as plt"
   ]
  },
  {
   "cell_type": "code",
   "execution_count": 91,
   "metadata": {
    "collapsed": false
   },
   "outputs": [],
   "source": [
    "data = pd.read_csv('trades/2011-07.csv')"
   ]
  },
  {
   "cell_type": "markdown",
   "metadata": {},
   "source": [
    "## Some useful transformations"
   ]
  },
  {
   "cell_type": "code",
   "execution_count": 92,
   "metadata": {
    "collapsed": true
   },
   "outputs": [],
   "source": [
    "price_usd = pd.DataFrame(data[\"Money\"]/data[\"Bitcoins\"], columns=['Price_USD'])\n",
    "data = data.join(price_usd)\n",
    "import datetime\n",
    "data[\"Date\"] = pd.to_datetime(data.Date)"
   ]
  },
  {
   "cell_type": "code",
   "execution_count": 93,
   "metadata": {
    "collapsed": false
   },
   "outputs": [
    {
     "data": {
      "text/html": [
       "<div>\n",
       "<table border=\"1\" class=\"dataframe\">\n",
       "  <thead>\n",
       "    <tr style=\"text-align: right;\">\n",
       "      <th></th>\n",
       "      <th>Trade_Id</th>\n",
       "      <th>Date</th>\n",
       "      <th>User_Id</th>\n",
       "      <th>Japan</th>\n",
       "      <th>Type</th>\n",
       "      <th>Currency</th>\n",
       "      <th>Bitcoins</th>\n",
       "      <th>Money</th>\n",
       "      <th>Money_Rate</th>\n",
       "      <th>Money_JPY</th>\n",
       "      <th>Money_Fee</th>\n",
       "      <th>Money_Fee_Rate</th>\n",
       "      <th>Money_Fee_JPY</th>\n",
       "      <th>Bitcoin_Fee</th>\n",
       "      <th>Bitcoin_Fee_JPY</th>\n",
       "      <th>Price_USD</th>\n",
       "    </tr>\n",
       "  </thead>\n",
       "  <tbody>\n",
       "    <tr>\n",
       "      <th>0</th>\n",
       "      <td>1309478459355721</td>\n",
       "      <td>2011-07-01 00:00:59</td>\n",
       "      <td>61717</td>\n",
       "      <td>NJP</td>\n",
       "      <td>buy</td>\n",
       "      <td>USD</td>\n",
       "      <td>0.100000</td>\n",
       "      <td>1.61010</td>\n",
       "      <td>80.433128</td>\n",
       "      <td>129.505380</td>\n",
       "      <td>0</td>\n",
       "      <td>80.433128</td>\n",
       "      <td>0</td>\n",
       "      <td>0.0003</td>\n",
       "      <td>0.389795</td>\n",
       "      <td>16.101000</td>\n",
       "    </tr>\n",
       "    <tr>\n",
       "      <th>1</th>\n",
       "      <td>1309478459355721</td>\n",
       "      <td>2011-07-01 00:00:59</td>\n",
       "      <td>4125</td>\n",
       "      <td>NJP</td>\n",
       "      <td>sell</td>\n",
       "      <td>USD</td>\n",
       "      <td>0.100000</td>\n",
       "      <td>1.61010</td>\n",
       "      <td>80.433128</td>\n",
       "      <td>129.505380</td>\n",
       "      <td>0</td>\n",
       "      <td>80.433128</td>\n",
       "      <td>0</td>\n",
       "      <td>0.0000</td>\n",
       "      <td>0.000000</td>\n",
       "      <td>16.101000</td>\n",
       "    </tr>\n",
       "    <tr>\n",
       "      <th>2</th>\n",
       "      <td>1309478466574560</td>\n",
       "      <td>2011-07-01 00:01:06</td>\n",
       "      <td>57157</td>\n",
       "      <td>NJP</td>\n",
       "      <td>buy</td>\n",
       "      <td>USD</td>\n",
       "      <td>1.000000</td>\n",
       "      <td>16.10098</td>\n",
       "      <td>80.433128</td>\n",
       "      <td>1295.052186</td>\n",
       "      <td>0</td>\n",
       "      <td>80.433128</td>\n",
       "      <td>0</td>\n",
       "      <td>0.0000</td>\n",
       "      <td>0.000000</td>\n",
       "      <td>16.100980</td>\n",
       "    </tr>\n",
       "    <tr>\n",
       "      <th>3</th>\n",
       "      <td>1309478466574560</td>\n",
       "      <td>2011-07-01 00:01:06</td>\n",
       "      <td>4125</td>\n",
       "      <td>NJP</td>\n",
       "      <td>sell</td>\n",
       "      <td>USD</td>\n",
       "      <td>1.000000</td>\n",
       "      <td>16.10098</td>\n",
       "      <td>80.433128</td>\n",
       "      <td>1295.052186</td>\n",
       "      <td>0</td>\n",
       "      <td>80.433128</td>\n",
       "      <td>0</td>\n",
       "      <td>0.0000</td>\n",
       "      <td>0.000000</td>\n",
       "      <td>16.100980</td>\n",
       "    </tr>\n",
       "    <tr>\n",
       "      <th>4</th>\n",
       "      <td>1309478468980270</td>\n",
       "      <td>2011-07-01 00:01:08</td>\n",
       "      <td>337</td>\n",
       "      <td>NJP</td>\n",
       "      <td>buy</td>\n",
       "      <td>USD</td>\n",
       "      <td>1.705052</td>\n",
       "      <td>27.45300</td>\n",
       "      <td>80.433128</td>\n",
       "      <td>2208.130665</td>\n",
       "      <td>0</td>\n",
       "      <td>80.433128</td>\n",
       "      <td>0</td>\n",
       "      <td>0.0000</td>\n",
       "      <td>0.000000</td>\n",
       "      <td>16.100978</td>\n",
       "    </tr>\n",
       "  </tbody>\n",
       "</table>\n",
       "</div>"
      ],
      "text/plain": [
       "           Trade_Id                Date  User_Id Japan  Type Currency  \\\n",
       "0  1309478459355721 2011-07-01 00:00:59    61717   NJP   buy      USD   \n",
       "1  1309478459355721 2011-07-01 00:00:59     4125   NJP  sell      USD   \n",
       "2  1309478466574560 2011-07-01 00:01:06    57157   NJP   buy      USD   \n",
       "3  1309478466574560 2011-07-01 00:01:06     4125   NJP  sell      USD   \n",
       "4  1309478468980270 2011-07-01 00:01:08      337   NJP   buy      USD   \n",
       "\n",
       "   Bitcoins     Money  Money_Rate    Money_JPY  Money_Fee  Money_Fee_Rate  \\\n",
       "0  0.100000   1.61010   80.433128   129.505380          0       80.433128   \n",
       "1  0.100000   1.61010   80.433128   129.505380          0       80.433128   \n",
       "2  1.000000  16.10098   80.433128  1295.052186          0       80.433128   \n",
       "3  1.000000  16.10098   80.433128  1295.052186          0       80.433128   \n",
       "4  1.705052  27.45300   80.433128  2208.130665          0       80.433128   \n",
       "\n",
       "   Money_Fee_JPY  Bitcoin_Fee  Bitcoin_Fee_JPY  Price_USD  \n",
       "0              0       0.0003         0.389795  16.101000  \n",
       "1              0       0.0000         0.000000  16.101000  \n",
       "2              0       0.0000         0.000000  16.100980  \n",
       "3              0       0.0000         0.000000  16.100980  \n",
       "4              0       0.0000         0.000000  16.100978  "
      ]
     },
     "execution_count": 93,
     "metadata": {},
     "output_type": "execute_result"
    }
   ],
   "source": [
    "data.head()"
   ]
  },
  {
   "cell_type": "code",
   "execution_count": 94,
   "metadata": {
    "collapsed": false
   },
   "outputs": [],
   "source": [
    "plt.rcParams['figure.figsize'] = (19.0, 12.0)\n",
    "#plt.plot(data[\"Date\"],data[\"Price_USD\"])"
   ]
  },
  {
   "cell_type": "code",
   "execution_count": 95,
   "metadata": {
    "collapsed": false
   },
   "outputs": [],
   "source": [
    "#data[data[\"Price_USD\"] > 5000]"
   ]
  },
  {
   "cell_type": "markdown",
   "metadata": {},
   "source": [
    "### K = 10"
   ]
  },
  {
   "cell_type": "code",
   "execution_count": 96,
   "metadata": {
    "collapsed": true
   },
   "outputs": [],
   "source": [
    "K = 10"
   ]
  },
  {
   "cell_type": "markdown",
   "metadata": {},
   "source": [
    "## Top K buyers"
   ]
  },
  {
   "cell_type": "code",
   "execution_count": 97,
   "metadata": {
    "collapsed": false
   },
   "outputs": [],
   "source": [
    "grouped = data[data.Type == 'buy'].groupby('User_Id')\n",
    "btc_vol = grouped.sum()['Bitcoins']\n",
    "#usd_vol = grouped.sum()['Money']\n",
    "sorted_buyers = btc_vol.sort_values(ascending=False,inplace=False)\n",
    "top_buyers = sorted_buyers[:K]\n",
    "buyers = np.array(top_buyers.index)"
   ]
  },
  {
   "cell_type": "markdown",
   "metadata": {},
   "source": [
    "## Top K sellers"
   ]
  },
  {
   "cell_type": "code",
   "execution_count": 98,
   "metadata": {
    "collapsed": false
   },
   "outputs": [],
   "source": [
    "grouped = data[data.Type == 'sell'].groupby('User_Id')\n",
    "btc_vol = grouped.sum()['Bitcoins']\n",
    "#usd_vol = grouped.sum()['Money']\n",
    "sorted_sellers = btc_vol.sort_values(ascending=False,inplace=False)\n",
    "top_sellers = sorted_sellers[:K]\n",
    "sellers = np.array(top_sellers.index)"
   ]
  },
  {
   "cell_type": "markdown",
   "metadata": {},
   "source": [
    "# Buy-Sell Matrix"
   ]
  },
  {
   "cell_type": "code",
   "execution_count": 99,
   "metadata": {
    "collapsed": false
   },
   "outputs": [],
   "source": [
    "unique_users = np.unique(data[\"User_Id\"])\n",
    "n_users = len(unique_users)\n",
    "buy_sell_mat = np.zeros((n_users,n_users))"
   ]
  },
  {
   "cell_type": "code",
   "execution_count": 100,
   "metadata": {
    "collapsed": true
   },
   "outputs": [],
   "source": [
    "def user2index(user_id):\n",
    "    return np.where(unique_users == user_id.reshape(np.array(user_id).shape[0],1))"
   ]
  },
  {
   "cell_type": "code",
   "execution_count": 101,
   "metadata": {
    "collapsed": false
   },
   "outputs": [],
   "source": [
    "matrix_index = pd.DataFrame(user2index(data[\"User_Id\"])[1], columns=['Matrix index'])\n",
    "data = data.join(matrix_index)"
   ]
  },
  {
   "cell_type": "code",
   "execution_count": 102,
   "metadata": {
    "collapsed": true
   },
   "outputs": [],
   "source": [
    "trades_grouped = data.groupby('Trade_Id')\n",
    "for trade, group in trades_grouped:\n",
    "    ind0 = group.index[0]\n",
    "    ind1 = group.index[1]\n",
    "    i = group.loc[ind0]['Matrix index']\n",
    "    j = group.loc[ind1]['Matrix index']\n",
    "    if group.loc[ind0]['Type'] == 'buy':\n",
    "        buy_sell_mat[i,j] += group.loc[ind0]['Bitcoins']\n",
    "    else:\n",
    "        buy_sell_mat[j,i] += group.loc[ind0]['Bitcoins']"
   ]
  },
  {
   "cell_type": "markdown",
   "metadata": {
    "collapsed": true
   },
   "source": [
    "## Regarder\n",
    "http://networkx.github.io/\n",
    "\n",
    "https://networkx.github.io/documentation/latest/reference/generated/networkx.linalg.graphmatrix.adjacency_matrix.html\n",
    "\n",
    "http://manishamde.github.io/blog/2013/03/07/pandas-and-python-top-10/"
   ]
  },
  {
   "cell_type": "code",
   "execution_count": 103,
   "metadata": {
    "collapsed": false
   },
   "outputs": [
    {
     "data": {
      "image/png": "[encoded data removed]",
      "text/plain": [
       "<matplotlib.figure.Figure at 0x1b20b8390>"
      ]
     },
     "metadata": {},
     "output_type": "display_data"
    }
   ],
   "source": [
    "plt.pcolor(np.log(buy_sell_mat)[:50,:50],cmap=plt.cm.cool)\n",
    "plt.title(\"Buy matrix\")\n",
    "plt.colorbar()\n",
    "plt.show()\n",
    "plt.close()"
   ]
  },
  {
   "cell_type": "markdown",
   "metadata": {},
   "source": [
    "## useful code to plot histograms with same axes"
   ]
  },
  {
   "cell_type": "code",
   "execution_count": null,
   "metadata": {
    "collapsed": true
   },
   "outputs": [],
   "source": [
    "plt.rcParams['figure.figsize'] = (19.0, 12.0)\n",
    "f, axes = plt.subplots(10, sharex=True, sharey=True)\n",
    "for i, axi in enumerate(axes):\n",
    "    axi.hist(comp_martingale[i],bins=20)\n",
    "f.subplots_adjust(hspace=0)"
   ]
  }
 ],
 "metadata": {
  "kernelspec": {
   "display_name": "Python 2",
   "language": "python",
   "name": "python2"
  },
  "language_info": {
   "codemirror_mode": {
    "name": "ipython",
    "version": 2
   },
   "file_extension": ".py",
   "mimetype": "text/x-python",
   "name": "python",
   "nbconvert_exporter": "python",
   "pygments_lexer": "ipython2",
   "version": "2.7.11"
  }
 },
 "nbformat": 4,
 "nbformat_minor": 0
}
