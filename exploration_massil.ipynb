{
 "cells": [
  {
   "cell_type": "code",
   "execution_count": 1,
   "metadata": {
    "collapsed": true
   },
   "outputs": [],
   "source": [
    "import numpy as np\n",
    "import pandas as pd"
   ]
  },
  {
   "cell_type": "code",
   "execution_count": 2,
   "metadata": {
    "collapsed": true
   },
   "outputs": [],
   "source": [
    "%matplotlib inline\n",
    "import matplotlib.pyplot as plt"
   ]
  },
  {
   "cell_type": "code",
   "execution_count": 3,
   "metadata": {
    "collapsed": false
   },
   "outputs": [],
   "source": [
    "data = pd.read_csv('trades/2011-07.csv')"
   ]
  },
  {
   "cell_type": "markdown",
   "metadata": {},
   "source": [
    "## Some useful transformations"
   ]
  },
  {
   "cell_type": "code",
   "execution_count": 4,
   "metadata": {
    "collapsed": true
   },
   "outputs": [],
   "source": [
    "price_usd = pd.DataFrame(data[\"Money\"]/data[\"Bitcoins\"], columns=['Price_USD'])\n",
    "data = data.join(price_usd)\n",
    "import datetime\n",
    "data[\"Date\"] = pd.to_datetime(data.Date)"
   ]
  },
  {
   "cell_type": "code",
   "execution_count": 5,
   "metadata": {
    "collapsed": false
   },
   "outputs": [
    {
     "data": {
      "text/html": [
       "<div>\n",
       "<table border=\"1\" class=\"dataframe\">\n",
       "  <thead>\n",
       "    <tr style=\"text-align: right;\">\n",
       "      <th></th>\n",
       "      <th>Trade_Id</th>\n",
       "      <th>Date</th>\n",
       "      <th>User_Id</th>\n",
       "      <th>Japan</th>\n",
       "      <th>Type</th>\n",
       "      <th>Currency</th>\n",
       "      <th>Bitcoins</th>\n",
       "      <th>Money</th>\n",
       "      <th>Money_Rate</th>\n",
       "      <th>Money_JPY</th>\n",
       "      <th>Money_Fee</th>\n",
       "      <th>Money_Fee_Rate</th>\n",
       "      <th>Money_Fee_JPY</th>\n",
       "      <th>Bitcoin_Fee</th>\n",
       "      <th>Bitcoin_Fee_JPY</th>\n",
       "      <th>Price_USD</th>\n",
       "    </tr>\n",
       "  </thead>\n",
       "  <tbody>\n",
       "    <tr>\n",
       "      <th>0</th>\n",
       "      <td>1309478459355721</td>\n",
       "      <td>2011-07-01 00:00:59</td>\n",
       "      <td>61717</td>\n",
       "      <td>NJP</td>\n",
       "      <td>buy</td>\n",
       "      <td>USD</td>\n",
       "      <td>0.100000</td>\n",
       "      <td>1.61010</td>\n",
       "      <td>80.433128</td>\n",
       "      <td>129.505380</td>\n",
       "      <td>0</td>\n",
       "      <td>80.433128</td>\n",
       "      <td>0</td>\n",
       "      <td>0.0003</td>\n",
       "      <td>0.389795</td>\n",
       "      <td>16.101000</td>\n",
       "    </tr>\n",
       "    <tr>\n",
       "      <th>1</th>\n",
       "      <td>1309478459355721</td>\n",
       "      <td>2011-07-01 00:00:59</td>\n",
       "      <td>4125</td>\n",
       "      <td>NJP</td>\n",
       "      <td>sell</td>\n",
       "      <td>USD</td>\n",
       "      <td>0.100000</td>\n",
       "      <td>1.61010</td>\n",
       "      <td>80.433128</td>\n",
       "      <td>129.505380</td>\n",
       "      <td>0</td>\n",
       "      <td>80.433128</td>\n",
       "      <td>0</td>\n",
       "      <td>0.0000</td>\n",
       "      <td>0.000000</td>\n",
       "      <td>16.101000</td>\n",
       "    </tr>\n",
       "    <tr>\n",
       "      <th>2</th>\n",
       "      <td>1309478466574560</td>\n",
       "      <td>2011-07-01 00:01:06</td>\n",
       "      <td>57157</td>\n",
       "      <td>NJP</td>\n",
       "      <td>buy</td>\n",
       "      <td>USD</td>\n",
       "      <td>1.000000</td>\n",
       "      <td>16.10098</td>\n",
       "      <td>80.433128</td>\n",
       "      <td>1295.052186</td>\n",
       "      <td>0</td>\n",
       "      <td>80.433128</td>\n",
       "      <td>0</td>\n",
       "      <td>0.0000</td>\n",
       "      <td>0.000000</td>\n",
       "      <td>16.100980</td>\n",
       "    </tr>\n",
       "    <tr>\n",
       "      <th>3</th>\n",
       "      <td>1309478466574560</td>\n",
       "      <td>2011-07-01 00:01:06</td>\n",
       "      <td>4125</td>\n",
       "      <td>NJP</td>\n",
       "      <td>sell</td>\n",
       "      <td>USD</td>\n",
       "      <td>1.000000</td>\n",
       "      <td>16.10098</td>\n",
       "      <td>80.433128</td>\n",
       "      <td>1295.052186</td>\n",
       "      <td>0</td>\n",
       "      <td>80.433128</td>\n",
       "      <td>0</td>\n",
       "      <td>0.0000</td>\n",
       "      <td>0.000000</td>\n",
       "      <td>16.100980</td>\n",
       "    </tr>\n",
       "    <tr>\n",
       "      <th>4</th>\n",
       "      <td>1309478468980270</td>\n",
       "      <td>2011-07-01 00:01:08</td>\n",
       "      <td>337</td>\n",
       "      <td>NJP</td>\n",
       "      <td>buy</td>\n",
       "      <td>USD</td>\n",
       "      <td>1.705052</td>\n",
       "      <td>27.45300</td>\n",
       "      <td>80.433128</td>\n",
       "      <td>2208.130665</td>\n",
       "      <td>0</td>\n",
       "      <td>80.433128</td>\n",
       "      <td>0</td>\n",
       "      <td>0.0000</td>\n",
       "      <td>0.000000</td>\n",
       "      <td>16.100978</td>\n",
       "    </tr>\n",
       "  </tbody>\n",
       "</table>\n",
       "</div>"
      ],
      "text/plain": [
       "           Trade_Id                Date  User_Id Japan  Type Currency  \\\n",
       "0  1309478459355721 2011-07-01 00:00:59    61717   NJP   buy      USD   \n",
       "1  1309478459355721 2011-07-01 00:00:59     4125   NJP  sell      USD   \n",
       "2  1309478466574560 2011-07-01 00:01:06    57157   NJP   buy      USD   \n",
       "3  1309478466574560 2011-07-01 00:01:06     4125   NJP  sell      USD   \n",
       "4  1309478468980270 2011-07-01 00:01:08      337   NJP   buy      USD   \n",
       "\n",
       "   Bitcoins     Money  Money_Rate    Money_JPY  Money_Fee  Money_Fee_Rate  \\\n",
       "0  0.100000   1.61010   80.433128   129.505380          0       80.433128   \n",
       "1  0.100000   1.61010   80.433128   129.505380          0       80.433128   \n",
       "2  1.000000  16.10098   80.433128  1295.052186          0       80.433128   \n",
       "3  1.000000  16.10098   80.433128  1295.052186          0       80.433128   \n",
       "4  1.705052  27.45300   80.433128  2208.130665          0       80.433128   \n",
       "\n",
       "   Money_Fee_JPY  Bitcoin_Fee  Bitcoin_Fee_JPY  Price_USD  \n",
       "0              0       0.0003         0.389795  16.101000  \n",
       "1              0       0.0000         0.000000  16.101000  \n",
       "2              0       0.0000         0.000000  16.100980  \n",
       "3              0       0.0000         0.000000  16.100980  \n",
       "4              0       0.0000         0.000000  16.100978  "
      ]
     },
     "execution_count": 5,
     "metadata": {},
     "output_type": "execute_result"
    }
   ],
   "source": [
    "data.head()"
   ]
  },
  {
   "cell_type": "code",
   "execution_count": 6,
   "metadata": {
    "collapsed": false
   },
   "outputs": [],
   "source": [
    "plt.rcParams['figure.figsize'] = (19.0, 12.0)\n",
    "#plt.plot(data[\"Date\"],data[\"Price_USD\"])"
   ]
  },
  {
   "cell_type": "code",
   "execution_count": 7,
   "metadata": {
    "collapsed": false
   },
   "outputs": [],
   "source": [
    "#data[data[\"Price_USD\"] > 5000]"
   ]
  },
  {
   "cell_type": "markdown",
   "metadata": {},
   "source": [
    "### K = 10"
   ]
  },
  {
   "cell_type": "code",
   "execution_count": 8,
   "metadata": {
    "collapsed": true
   },
   "outputs": [],
   "source": [
    "K = 10\n",
    "from transform import top_K_buyers, top_K_sellers"
   ]
  },
  {
   "cell_type": "markdown",
   "metadata": {},
   "source": [
    "## Top K buyers"
   ]
  },
  {
   "cell_type": "code",
   "execution_count": 9,
   "metadata": {
    "collapsed": false
   },
   "outputs": [],
   "source": [
    "top_buyers = top_K_buyers(data)"
   ]
  },
  {
   "cell_type": "markdown",
   "metadata": {},
   "source": [
    "## Top K sellers"
   ]
  },
  {
   "cell_type": "code",
   "execution_count": 10,
   "metadata": {
    "collapsed": false
   },
   "outputs": [],
   "source": [
    "top_sellers = top_K_sellers(data)"
   ]
  },
  {
   "cell_type": "code",
   "execution_count": 11,
   "metadata": {
    "collapsed": false
   },
   "outputs": [
    {
     "data": {
      "text/plain": [
       "0        1\n",
       "1    28856\n",
       "2     4125\n",
       "3    16131\n",
       "4    11003\n",
       "5     8511\n",
       "6     2434\n",
       "7    57157\n",
       "8     8191\n",
       "9    17573\n",
       "dtype: int64"
      ]
     },
     "execution_count": 11,
     "metadata": {},
     "output_type": "execute_result"
    }
   ],
   "source": [
    "pd.Series(top_sellers)"
   ]
  },
  {
   "cell_type": "markdown",
   "metadata": {},
   "source": [
    "# Buy-Sell Matrix"
   ]
  },
  {
   "cell_type": "code",
   "execution_count": 12,
   "metadata": {
    "collapsed": false
   },
   "outputs": [],
   "source": [
    "from transform import buy_sell_matrix\n",
    "buy_sell_mat = buy_sell_matrix(data)"
   ]
  },
  {
   "cell_type": "code",
   "execution_count": 13,
   "metadata": {
    "collapsed": false
   },
   "outputs": [
    {
     "data": {
      "text/plain": [
       "array([[ 0.,  0.,  0.,  0.,  0.,  0.,  0.,  0.,  0.,  0.],\n",
       "       [ 0.,  0.,  0.,  0.,  0.,  0.,  0.,  0.,  0.,  0.],\n",
       "       [ 0.,  0.,  0.,  0.,  0.,  0.,  0.,  0.,  0.,  0.],\n",
       "       [ 0.,  0.,  0.,  0.,  0.,  0.,  0.,  0.,  0.,  0.],\n",
       "       [ 0.,  0.,  0.,  0.,  0.,  0.,  0.,  0.,  0.,  0.],\n",
       "       [ 0.,  0.,  0.,  0.,  0.,  0.,  0.,  0.,  0.,  0.],\n",
       "       [ 0.,  0.,  0.,  0.,  0.,  0.,  0.,  0.,  0.,  0.],\n",
       "       [ 0.,  0.,  0.,  0.,  0.,  0.,  0.,  0.,  0.,  0.],\n",
       "       [ 0.,  0.,  0.,  0.,  0.,  0.,  0.,  0.,  0.,  0.],\n",
       "       [ 0.,  0.,  0.,  0.,  0.,  0.,  0.,  0.,  0.,  0.]])"
      ]
     },
     "execution_count": 13,
     "metadata": {},
     "output_type": "execute_result"
    }
   ],
   "source": [
    "buy_sell_mat"
   ]
  },
  {
   "cell_type": "markdown",
   "metadata": {
    "collapsed": true
   },
   "source": [
    "## Regarder\n",
    "http://networkx.github.io/\n",
    "\n",
    "https://networkx.github.io/documentation/latest/reference/generated/networkx.linalg.graphmatrix.adjacency_matrix.html\n",
    "\n",
    "http://manishamde.github.io/blog/2013/03/07/pandas-and-python-top-10/"
   ]
  },
  {
   "cell_type": "code",
   "execution_count": 14,
   "metadata": {
    "collapsed": false
   },
   "outputs": [
    {
     "name": "stderr",
     "output_type": "stream",
     "text": [
      "/Users/massil/anaconda/lib/python2.7/site-packages/matplotlib/collections.py:590: FutureWarning: elementwise comparison failed; returning scalar instead, but in the future will perform elementwise comparison\n",
      "  if self._edgecolors == str('face'):\n"
     ]
    },
    {
     "data": {
      "image/png": "[encoded data removed]",
      "text/plain": [
       "<matplotlib.figure.Figure at 0x111f2c950>"
      ]
     },
     "metadata": {},
     "output_type": "display_data"
    }
   ],
   "source": [
    "plt.pcolor(buy_sell_mat,cmap=plt.cm.cool)\n",
    "plt.title(\"Buy matrix\")\n",
    "plt.colorbar()\n",
    "plt.show()\n",
    "plt.close()"
   ]
  },
  {
   "cell_type": "code",
   "execution_count": null,
   "metadata": {
    "collapsed": true
   },
   "outputs": [],
   "source": []
  }
 ],
 "metadata": {
  "kernelspec": {
   "display_name": "Python 2",
   "language": "python",
   "name": "python2"
  },
  "language_info": {
   "codemirror_mode": {
    "name": "ipython",
    "version": 2
   },
   "file_extension": ".py",
   "mimetype": "text/x-python",
   "name": "python",
   "nbconvert_exporter": "python",
   "pygments_lexer": "ipython2",
   "version": "2.7.11"
  }
 },
 "nbformat": 4,
 "nbformat_minor": 0
}
